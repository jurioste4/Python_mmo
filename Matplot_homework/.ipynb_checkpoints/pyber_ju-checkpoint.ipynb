{
 "cells": [
  {
   "cell_type": "code",
   "execution_count": 14,
   "metadata": {},
   "outputs": [
    {
     "data": {
      "text/html": [
       "<div>\n",
       "<style scoped>\n",
       "    .dataframe tbody tr th:only-of-type {\n",
       "        vertical-align: middle;\n",
       "    }\n",
       "\n",
       "    .dataframe tbody tr th {\n",
       "        vertical-align: top;\n",
       "    }\n",
       "\n",
       "    .dataframe thead th {\n",
       "        text-align: right;\n",
       "    }\n",
       "</style>\n",
       "<table border=\"1\" class=\"dataframe\">\n",
       "  <thead>\n",
       "    <tr style=\"text-align: right;\">\n",
       "      <th></th>\n",
       "      <th>city</th>\n",
       "      <th>driver_count</th>\n",
       "      <th>type</th>\n",
       "      <th>date</th>\n",
       "      <th>fare</th>\n",
       "      <th>ride_id</th>\n",
       "    </tr>\n",
       "  </thead>\n",
       "  <tbody>\n",
       "    <tr>\n",
       "      <th>0</th>\n",
       "      <td>Richardfort</td>\n",
       "      <td>38</td>\n",
       "      <td>Urban</td>\n",
       "      <td>2018-02-24 08:40:38</td>\n",
       "      <td>13.93</td>\n",
       "      <td>5628545007794</td>\n",
       "    </tr>\n",
       "    <tr>\n",
       "      <th>1</th>\n",
       "      <td>Richardfort</td>\n",
       "      <td>38</td>\n",
       "      <td>Urban</td>\n",
       "      <td>2018-02-13 12:46:07</td>\n",
       "      <td>14.00</td>\n",
       "      <td>910050116494</td>\n",
       "    </tr>\n",
       "    <tr>\n",
       "      <th>2</th>\n",
       "      <td>Richardfort</td>\n",
       "      <td>38</td>\n",
       "      <td>Urban</td>\n",
       "      <td>2018-02-16 13:52:19</td>\n",
       "      <td>17.92</td>\n",
       "      <td>820639054416</td>\n",
       "    </tr>\n",
       "    <tr>\n",
       "      <th>3</th>\n",
       "      <td>Richardfort</td>\n",
       "      <td>38</td>\n",
       "      <td>Urban</td>\n",
       "      <td>2018-02-01 20:18:28</td>\n",
       "      <td>10.26</td>\n",
       "      <td>9554935945413</td>\n",
       "    </tr>\n",
       "    <tr>\n",
       "      <th>4</th>\n",
       "      <td>Richardfort</td>\n",
       "      <td>38</td>\n",
       "      <td>Urban</td>\n",
       "      <td>2018-04-17 02:26:37</td>\n",
       "      <td>23.00</td>\n",
       "      <td>720020655850</td>\n",
       "    </tr>\n",
       "  </tbody>\n",
       "</table>\n",
       "</div>"
      ],
      "text/plain": [
       "          city  driver_count   type                 date   fare        ride_id\n",
       "0  Richardfort            38  Urban  2018-02-24 08:40:38  13.93  5628545007794\n",
       "1  Richardfort            38  Urban  2018-02-13 12:46:07  14.00   910050116494\n",
       "2  Richardfort            38  Urban  2018-02-16 13:52:19  17.92   820639054416\n",
       "3  Richardfort            38  Urban  2018-02-01 20:18:28  10.26  9554935945413\n",
       "4  Richardfort            38  Urban  2018-04-17 02:26:37  23.00   720020655850"
      ]
     },
     "execution_count": 14,
     "metadata": {},
     "output_type": "execute_result"
    }
   ],
   "source": [
    "%matplotlib inline\n",
    "# Dependencies and Setup\n",
    "import matplotlib.pyplot as plt\n",
    "import pandas as pd\n",
    "import numpy as np\n",
    "\n",
    "# File to Load (Remember to change these)\n",
    "city_data =  (\"data/city_data.csv\")\n",
    "ride_data =  (\"data/ride_data.csv\")\n",
    "\n",
    "city_data_df = pd.read_csv(city_data)\n",
    "ride_data_df = pd.read_csv(ride_data)\n",
    "# Combine the data into a single dataset\n",
    "city_ride_data = pd.merge(city_data_df, ride_data_df)\n",
    "# Display the data table for preview\n",
    "city_ride_data.head()\n",
    "                                    "
   ]
  },
  {
   "cell_type": "code",
   "execution_count": 7,
   "metadata": {},
   "outputs": [
    {
     "data": {
      "text/html": [
       "<div>\n",
       "<style scoped>\n",
       "    .dataframe tbody tr th:only-of-type {\n",
       "        vertical-align: middle;\n",
       "    }\n",
       "\n",
       "    .dataframe tbody tr th {\n",
       "        vertical-align: top;\n",
       "    }\n",
       "\n",
       "    .dataframe thead th {\n",
       "        text-align: right;\n",
       "    }\n",
       "</style>\n",
       "<table border=\"1\" class=\"dataframe\">\n",
       "  <thead>\n",
       "    <tr style=\"text-align: right;\">\n",
       "      <th></th>\n",
       "      <th>urben fare city total</th>\n",
       "      <th>avg fare per city</th>\n",
       "      <th>total rides per city</th>\n",
       "      <th>total drivers per city</th>\n",
       "    </tr>\n",
       "    <tr>\n",
       "      <th>city</th>\n",
       "      <th></th>\n",
       "      <th></th>\n",
       "      <th></th>\n",
       "      <th></th>\n",
       "    </tr>\n",
       "  </thead>\n",
       "  <tbody>\n",
       "    <tr>\n",
       "      <th>Amandaburgh</th>\n",
       "      <td>443.55</td>\n",
       "      <td>24.641667</td>\n",
       "      <td>18</td>\n",
       "      <td>1520</td>\n",
       "    </tr>\n",
       "    <tr>\n",
       "      <th>Barajasview</th>\n",
       "      <td>557.31</td>\n",
       "      <td>25.332273</td>\n",
       "      <td>22</td>\n",
       "      <td>234</td>\n",
       "    </tr>\n",
       "    <tr>\n",
       "      <th>Carriemouth</th>\n",
       "      <td>764.49</td>\n",
       "      <td>28.314444</td>\n",
       "      <td>27</td>\n",
       "      <td>440</td>\n",
       "    </tr>\n",
       "    <tr>\n",
       "      <th>Christopherfurt</th>\n",
       "      <td>661.55</td>\n",
       "      <td>24.501852</td>\n",
       "      <td>27</td>\n",
       "      <td>1241</td>\n",
       "    </tr>\n",
       "    <tr>\n",
       "      <th>Deanville</th>\n",
       "      <td>491.01</td>\n",
       "      <td>25.842632</td>\n",
       "      <td>19</td>\n",
       "      <td>1356</td>\n",
       "    </tr>\n",
       "  </tbody>\n",
       "</table>\n",
       "</div>"
      ],
      "text/plain": [
       "                 urben fare city total  avg fare per city  \\\n",
       "city                                                        \n",
       "Amandaburgh                     443.55          24.641667   \n",
       "Barajasview                     557.31          25.332273   \n",
       "Carriemouth                     764.49          28.314444   \n",
       "Christopherfurt                 661.55          24.501852   \n",
       "Deanville                       491.01          25.842632   \n",
       "\n",
       "                 total rides per city  total drivers per city  \n",
       "city                                                           \n",
       "Amandaburgh                        18                    1520  \n",
       "Barajasview                        22                     234  \n",
       "Carriemouth                        27                     440  \n",
       "Christopherfurt                    27                    1241  \n",
       "Deanville                          19                    1356  "
      ]
     },
     "execution_count": 7,
     "metadata": {},
     "output_type": "execute_result"
    }
   ],
   "source": [
    "urban_df = city_ride_data.loc[city_ride_data[\"type\"]==\"Urban\",:]\n",
    "#take total fare per city urben\n",
    "total_fare_urben_city = urban_df.groupby(\"city\")[\"fare\"].sum()\n",
    "#take the avg urben far per city\n",
    "avg_urben_fare_city = urban_df.groupby(\"city\")[\"fare\"].mean()\n",
    "# rides per city\n",
    "total_urben_city_rides= urban_df.groupby(\"city\")[\"ride_id\"].count()\n",
    "\n",
    " #total number drivers per city\n",
    "city_total_drivers = urban_df.groupby(\"city\")[\"driver_count\"].idxmax()\n",
    "\n",
    "urben_analysis = pd.DataFrame({\"urben fare city total\":total_fare_urben_city,\n",
    "                              \"avg fare per city\":avg_urben_fare_city,\n",
    "                              \"total rides per city\":total_urben_city_rides,\n",
    "                              \"total drivers per city\":city_total_drivers})\n",
    "\n",
    "urben_analysis.head()"
   ]
  },
  {
   "cell_type": "code",
   "execution_count": 16,
   "metadata": {},
   "outputs": [
    {
     "data": {
      "text/html": [
       "<div>\n",
       "<style scoped>\n",
       "    .dataframe tbody tr th:only-of-type {\n",
       "        vertical-align: middle;\n",
       "    }\n",
       "\n",
       "    .dataframe tbody tr th {\n",
       "        vertical-align: top;\n",
       "    }\n",
       "\n",
       "    .dataframe thead th {\n",
       "        text-align: right;\n",
       "    }\n",
       "</style>\n",
       "<table border=\"1\" class=\"dataframe\">\n",
       "  <thead>\n",
       "    <tr style=\"text-align: right;\">\n",
       "      <th></th>\n",
       "      <th>Suburban fare city total</th>\n",
       "      <th>avg fare per Suburban city</th>\n",
       "      <th>total rides per Suburban city</th>\n",
       "      <th>total drivers per Suburban city</th>\n",
       "    </tr>\n",
       "    <tr>\n",
       "      <th>city</th>\n",
       "      <th></th>\n",
       "      <th></th>\n",
       "      <th></th>\n",
       "      <th></th>\n",
       "    </tr>\n",
       "  </thead>\n",
       "  <tbody>\n",
       "    <tr>\n",
       "      <th>Barronchester</th>\n",
       "      <td>582.76</td>\n",
       "      <td>36.422500</td>\n",
       "      <td>16</td>\n",
       "      <td>2038</td>\n",
       "    </tr>\n",
       "    <tr>\n",
       "      <th>Bethanyland</th>\n",
       "      <td>593.21</td>\n",
       "      <td>32.956111</td>\n",
       "      <td>18</td>\n",
       "      <td>1996</td>\n",
       "    </tr>\n",
       "    <tr>\n",
       "      <th>Brandonfort</th>\n",
       "      <td>673.31</td>\n",
       "      <td>35.437368</td>\n",
       "      <td>19</td>\n",
       "      <td>2054</td>\n",
       "    </tr>\n",
       "    <tr>\n",
       "      <th>Colemanland</th>\n",
       "      <td>679.68</td>\n",
       "      <td>30.894545</td>\n",
       "      <td>22</td>\n",
       "      <td>1674</td>\n",
       "    </tr>\n",
       "    <tr>\n",
       "      <th>Davidfurt</th>\n",
       "      <td>543.93</td>\n",
       "      <td>31.995882</td>\n",
       "      <td>17</td>\n",
       "      <td>2178</td>\n",
       "    </tr>\n",
       "  </tbody>\n",
       "</table>\n",
       "</div>"
      ],
      "text/plain": [
       "               Suburban fare city total  avg fare per Suburban city  \\\n",
       "city                                                                  \n",
       "Barronchester                    582.76                   36.422500   \n",
       "Bethanyland                      593.21                   32.956111   \n",
       "Brandonfort                      673.31                   35.437368   \n",
       "Colemanland                      679.68                   30.894545   \n",
       "Davidfurt                        543.93                   31.995882   \n",
       "\n",
       "               total rides per Suburban city  total drivers per Suburban city  \n",
       "city                                                                           \n",
       "Barronchester                             16                             2038  \n",
       "Bethanyland                               18                             1996  \n",
       "Brandonfort                               19                             2054  \n",
       "Colemanland                               22                             1674  \n",
       "Davidfurt                                 17                             2178  "
      ]
     },
     "execution_count": 16,
     "metadata": {},
     "output_type": "execute_result"
    }
   ],
   "source": [
    "Suburban_df = city_ride_data.loc[city_ride_data[\"type\"]==\"Suburban\",:]\n",
    "\n",
    "#take total fare per city urben\n",
    "total_fare_Suburban_city = Suburban_df.groupby(\"city\")[\"fare\"].sum()\n",
    "#take the avg urben far per city\n",
    "avg_Suburban_fare_city = Suburban_df.groupby(\"city\")[\"fare\"].mean()\n",
    "# rides per city\n",
    "total_Suburban_city_rides= Suburban_df.groupby(\"city\")[\"ride_id\"].count()\n",
    "\n",
    " #total number drivers per city\n",
    "city_total_drivers = Suburban_df.groupby(\"city\")[\"driver_count\"].idxmax()\n",
    "\n",
    "Suburban_analysis = pd.DataFrame({\"Suburban fare city total\":total_fare_Suburban_city,\n",
    "                              \"avg fare per Suburban city\":avg_Suburban_fare_city,\n",
    "                              \"total rides per Suburban city\":total_Suburban_city_rides,\n",
    "                              \"total drivers per Suburban city\":city_total_drivers})\n",
    "Suburban_analysis.head()"
   ]
  },
  {
   "cell_type": "code",
   "execution_count": 17,
   "metadata": {},
   "outputs": [
    {
     "data": {
      "text/html": [
       "<div>\n",
       "<style scoped>\n",
       "    .dataframe tbody tr th:only-of-type {\n",
       "        vertical-align: middle;\n",
       "    }\n",
       "\n",
       "    .dataframe tbody tr th {\n",
       "        vertical-align: top;\n",
       "    }\n",
       "\n",
       "    .dataframe thead th {\n",
       "        text-align: right;\n",
       "    }\n",
       "</style>\n",
       "<table border=\"1\" class=\"dataframe\">\n",
       "  <thead>\n",
       "    <tr style=\"text-align: right;\">\n",
       "      <th></th>\n",
       "      <th>Rural fare city total</th>\n",
       "      <th>avg Rural fare per city</th>\n",
       "      <th>total Rural rides per city</th>\n",
       "      <th>total Rural drivers per city</th>\n",
       "    </tr>\n",
       "    <tr>\n",
       "      <th>city</th>\n",
       "      <th></th>\n",
       "      <th></th>\n",
       "      <th></th>\n",
       "      <th></th>\n",
       "    </tr>\n",
       "  </thead>\n",
       "  <tbody>\n",
       "    <tr>\n",
       "      <th>Bradshawfurt</th>\n",
       "      <td>400.64</td>\n",
       "      <td>40.064000</td>\n",
       "      <td>10</td>\n",
       "      <td>2344</td>\n",
       "    </tr>\n",
       "    <tr>\n",
       "      <th>Garzaport</th>\n",
       "      <td>72.37</td>\n",
       "      <td>24.123333</td>\n",
       "      <td>3</td>\n",
       "      <td>2341</td>\n",
       "    </tr>\n",
       "    <tr>\n",
       "      <th>Harringtonfort</th>\n",
       "      <td>200.82</td>\n",
       "      <td>33.470000</td>\n",
       "      <td>6</td>\n",
       "      <td>2302</td>\n",
       "    </tr>\n",
       "    <tr>\n",
       "      <th>Jessicaport</th>\n",
       "      <td>216.08</td>\n",
       "      <td>36.013333</td>\n",
       "      <td>6</td>\n",
       "      <td>2365</td>\n",
       "    </tr>\n",
       "    <tr>\n",
       "      <th>Lake Jamie</th>\n",
       "      <td>206.15</td>\n",
       "      <td>34.358333</td>\n",
       "      <td>6</td>\n",
       "      <td>2308</td>\n",
       "    </tr>\n",
       "  </tbody>\n",
       "</table>\n",
       "</div>"
      ],
      "text/plain": [
       "                Rural fare city total  avg Rural fare per city  \\\n",
       "city                                                             \n",
       "Bradshawfurt                   400.64                40.064000   \n",
       "Garzaport                       72.37                24.123333   \n",
       "Harringtonfort                 200.82                33.470000   \n",
       "Jessicaport                    216.08                36.013333   \n",
       "Lake Jamie                     206.15                34.358333   \n",
       "\n",
       "                total Rural rides per city  total Rural drivers per city  \n",
       "city                                                                      \n",
       "Bradshawfurt                            10                          2344  \n",
       "Garzaport                                3                          2341  \n",
       "Harringtonfort                           6                          2302  \n",
       "Jessicaport                              6                          2365  \n",
       "Lake Jamie                               6                          2308  "
      ]
     },
     "execution_count": 17,
     "metadata": {},
     "output_type": "execute_result"
    }
   ],
   "source": [
    "Rural_df = city_ride_data.loc[city_ride_data[\"type\"]==\"Rural\",:]\n",
    "#take total fare per city urben\n",
    "total_fare_Rural_city = Rural_df.groupby(\"city\")[\"fare\"].sum()\n",
    "#take the avg urben far per city\n",
    "avg_Rural_fare_city = Rural_df.groupby(\"city\")[\"fare\"].mean()\n",
    "# rides per city\n",
    "total_Rural_city_rides= Rural_df.groupby(\"city\")[\"ride_id\"].count()\n",
    "\n",
    " #total number drivers per city\n",
    "city_total_drivers = Rural_df.groupby(\"city\")[\"driver_count\"].idxmax()\n",
    "\n",
    "Rural_analysis = pd.DataFrame({\"Rural fare city total\":total_fare_Rural_city,\n",
    "                              \"avg Rural fare per city\":avg_Rural_fare_city,\n",
    "                              \"total Rural rides per city\":total_Rural_city_rides,\n",
    "                              \"total Rural drivers per city\":city_total_drivers})\n",
    "\n",
    "Rural_analysis.head()"
   ]
  },
  {
   "cell_type": "code",
   "execution_count": 4,
   "metadata": {},
   "outputs": [
    {
     "ename": "NameError",
     "evalue": "name 'total_rides' is not defined",
     "output_type": "error",
     "traceback": [
      "\u001b[1;31m---------------------------------------------------------------------------\u001b[0m",
      "\u001b[1;31mNameError\u001b[0m                                 Traceback (most recent call last)",
      "\u001b[1;32m<ipython-input-4-e46009c1e2b1>\u001b[0m in \u001b[0;36m<module>\u001b[1;34m\u001b[0m\n\u001b[0;32m      7\u001b[0m \u001b[1;31m#total number per city\u001b[0m\u001b[1;33m\u001b[0m\u001b[1;33m\u001b[0m\u001b[1;33m\u001b[0m\u001b[0m\n\u001b[0;32m      8\u001b[0m \u001b[1;33m\u001b[0m\u001b[0m\n\u001b[1;32m----> 9\u001b[1;33m test_df = pd.DataFrame({\"Fare per city\":total_rides,\n\u001b[0m\u001b[0;32m     10\u001b[0m                       \u001b[1;34m\"Ride city avg\"\u001b[0m\u001b[1;33m:\u001b[0m\u001b[0mavg_rides\u001b[0m\u001b[1;33m,\u001b[0m\u001b[1;34m\"total city rides\"\u001b[0m\u001b[1;33m:\u001b[0m\u001b[0mtotal_city_rides\u001b[0m\u001b[1;33m,\u001b[0m\u001b[1;33m\u001b[0m\u001b[1;33m\u001b[0m\u001b[0m\n\u001b[0;32m     11\u001b[0m                        \"Drivers per city\":city_total_rides})\n",
      "\u001b[1;31mNameError\u001b[0m: name 'total_rides' is not defined"
     ]
    }
   ],
   "source": []
  },
  {
   "cell_type": "code",
   "execution_count": null,
   "metadata": {},
   "outputs": [],
   "source": [
    "colors=(\"red\")\n",
    "plt.scatter(total_city_rides,avg_rides, s=test_df[\"Drivers per city\"],c=colors)\n",
    "plt.show"
   ]
  },
  {
   "cell_type": "code",
   "execution_count": null,
   "metadata": {},
   "outputs": [],
   "source": []
  },
  {
   "cell_type": "code",
   "execution_count": null,
   "metadata": {},
   "outputs": [],
   "source": [
    "#test_df= city_ride_data.groupby[\"type\"]==(\"Urban\").sum()\n",
    "#test_df.head()\n",
    "\n",
    "#city_ride_data.pivot_table(index='Urban',columns='Type',aggfunc=sum)"
   ]
  },
  {
   "cell_type": "markdown",
   "metadata": {},
   "source": [
    "## Bubble Plot of Ride Sharing Data"
   ]
  },
  {
   "cell_type": "code",
   "execution_count": null,
   "metadata": {},
   "outputs": [],
   "source": [
    "# Obtain the x and y coordinates for each of the three city types\n",
    "\n",
    "# Build the scatter plots for each city types\n",
    "\n",
    "# Incorporate the other graph properties\n",
    "\n",
    "# Create a legend\n",
    "\n",
    "# Incorporate a text label regarding circle size\n",
    "\n",
    "# Save Figure\n"
   ]
  },
  {
   "cell_type": "code",
   "execution_count": null,
   "metadata": {},
   "outputs": [],
   "source": [
    "# Show plot\n",
    "plt.show()"
   ]
  },
  {
   "cell_type": "markdown",
   "metadata": {},
   "source": [
    "## Total Fares by City Type"
   ]
  },
  {
   "cell_type": "code",
   "execution_count": null,
   "metadata": {},
   "outputs": [],
   "source": [
    "# Calculate Type Percents\n",
    "\n",
    "# Build Pie Chart\n",
    "\n",
    "# Save Figure\n"
   ]
  },
  {
   "cell_type": "code",
   "execution_count": null,
   "metadata": {},
   "outputs": [],
   "source": [
    "# Show Figure\n",
    "plt.show()"
   ]
  },
  {
   "cell_type": "markdown",
   "metadata": {},
   "source": [
    "## Total Rides by City Type"
   ]
  },
  {
   "cell_type": "code",
   "execution_count": null,
   "metadata": {},
   "outputs": [],
   "source": [
    "# Calculate Ride Percents\n",
    "\n",
    "# Build Pie Chart\n",
    "\n",
    "# Save Figure\n"
   ]
  },
  {
   "cell_type": "code",
   "execution_count": null,
   "metadata": {},
   "outputs": [],
   "source": [
    "# Show Figure\n",
    "plt.show()"
   ]
  },
  {
   "cell_type": "markdown",
   "metadata": {},
   "source": [
    "## Total Drivers by City Type"
   ]
  },
  {
   "cell_type": "code",
   "execution_count": null,
   "metadata": {},
   "outputs": [],
   "source": [
    "# Calculate Driver Percents\n",
    "\n",
    "# Build Pie Charts\n",
    "\n",
    "# Save Figure\n"
   ]
  },
  {
   "cell_type": "code",
   "execution_count": null,
   "metadata": {
    "scrolled": true
   },
   "outputs": [],
   "source": [
    "# Show Figure\n",
    "plt.show()"
   ]
  },
  {
   "cell_type": "code",
   "execution_count": null,
   "metadata": {},
   "outputs": [],
   "source": []
  }
 ],
 "metadata": {
  "anaconda-cloud": {},
  "kernelspec": {
   "display_name": "Python 3",
   "language": "python",
   "name": "python3"
  },
  "language_info": {
   "codemirror_mode": {
    "name": "ipython",
    "version": 3
   },
   "file_extension": ".py",
   "mimetype": "text/x-python",
   "name": "python",
   "nbconvert_exporter": "python",
   "pygments_lexer": "ipython3",
   "version": "3.7.1"
  }
 },
 "nbformat": 4,
 "nbformat_minor": 2
}
